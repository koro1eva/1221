{
 "cells": [
  {
   "attachments": {},
   "cell_type": "markdown",
   "id": "85924e45",
   "metadata": {},
   "source": [
    "# Раздел 1"
   ]
  },
  {
   "cell_type": "code",
   "execution_count": 1,
   "id": "21f1c14e",
   "metadata": {},
   "outputs": [
    {
     "name": "stdout",
     "output_type": "stream",
     "text": [
      "(9,)\n"
     ]
    }
   ],
   "source": [
    "import numpy as np\n",
    "a = np.array([1.2, 2.4, 3.6, 3.5, 6.7, 1.5, 8.4, 3.1, 9.2])\n",
    "\n",
    "d=a.shape\n",
    "\n",
    "print(d) "
   ]
  },
  {
   "cell_type": "code",
   "execution_count": 11,
   "id": "4cf01b1a",
   "metadata": {},
   "outputs": [
    {
     "name": "stdout",
     "output_type": "stream",
     "text": [
      "[[ 5.29 26.01 22.09]\n",
      " [12.25 44.89  2.25]\n",
      " [70.56  9.61 84.64]]\n"
     ]
    }
   ],
   "source": [
    "import numpy as np\n",
    "a = np.array([[2.3, 5.1, 4.7], [3.5, 6.7, 1.5], [8.4, 3.1, 9.2]])\n",
    "b = np.array([[4.3, 8.1, 6.1], [3.7, 6.2, 1.5], [2.4, 5.7, 4.7]])\n",
    "s=a**2\n",
    "print(s)"
   ]
  },
  {
   "cell_type": "code",
   "execution_count": 21,
   "id": "c754ecb0",
   "metadata": {},
   "outputs": [
    {
     "name": "stdout",
     "output_type": "stream",
     "text": [
      "[[0.3 0.1 0.1]\n",
      " [1.7 0.2 1.5]\n",
      " [0.4 1.7 0.7]]\n"
     ]
    }
   ],
   "source": [
    "import numpy as np\n",
    "a = np.array([[2.3, 5.1, 4.7], [3.5, 6.7, 1.5], [8.4, 3.1, 9.2]])\n",
    "b = np.array([[4.3, 8.1, 6.1], [3.7, 6.2, 1.5], [2.4, 5.7, 4.7]])\n",
    "s=b%2\n",
    "print(s)"
   ]
  },
  {
   "cell_type": "code",
   "execution_count": 31,
   "id": "366b906f",
   "metadata": {},
   "outputs": [
    {
     "name": "stdout",
     "output_type": "stream",
     "text": [
      "[[-1.58244196  1.34786755 -0.19455117]\n",
      " [-1.46629283  0.83129375  1.06823219]\n",
      " [ 0.15617453 -1.54982069 -1.97476688]]\n"
     ]
    }
   ],
   "source": [
    "import numpy as np\n",
    "a = np.array([[2.3, 5.1, 4.7], [3.5, 6.7, 1.5], [8.4, 3.1, 9.2]])\n",
    "b = np.array([[4.3, 8.1, 6.1], [3.7, 6.2, 1.5], [2.4, 5.7, 4.7]])\n",
    "s=np.sin(b)\n",
    "f=np.cos(a)\n",
    "print(s+f)"
   ]
  },
  {
   "cell_type": "code",
   "execution_count": 43,
   "id": "fb27d3fc",
   "metadata": {},
   "outputs": [
    {
     "name": "stdout",
     "output_type": "stream",
     "text": [
      "(9, 1)\n"
     ]
    }
   ],
   "source": [
    "import numpy as np \n",
    "a = np.array([[1.2], [2.4], [3.6], [3.5], [6.7], [1.5], [8.4], [3.1], [9.2]]) \n",
    "\n",
    "d=a.shape\n",
    "\n",
    "print(d)"
   ]
  },
  {
   "cell_type": "code",
   "execution_count": 53,
   "id": "f90bfb2e",
   "metadata": {},
   "outputs": [
    {
     "name": "stdout",
     "output_type": "stream",
     "text": [
      "[[1.2 2.4 3.6]\n",
      " [3.5 6.7 1.5]\n",
      " [8.4 3.1 9.2]]\n",
      "(3, 3)\n",
      "макс в каждой строке =  [3.6 6.7 9.2]\n",
      "макс в каждой столб =  [8.4 6.7 9.2]\n",
      "мин в каждой строке =  [1.2 1.5 3.1]\n",
      "мин в каждой столб =  [1.2 2.4 1.5]\n",
      "сум в каждой строке =  [ 7.2 11.7 20.7]\n",
      "сум в каждой столб =  [13.1 12.2 14.3]\n"
     ]
    }
   ],
   "source": [
    "import numpy as np \n",
    "a = np.array([[1.2, 2.4, 3.6], [3.5, 6.7, 1.5], [8.4, 3.1, 9.2]]) \n",
    "\n",
    "d=a.shape\n",
    "print(a)\n",
    "print(d)\n",
    "\n",
    "g=a.max(axis = 1)\n",
    "j=a.max(axis = 0)\n",
    "print('макс в каждой строке = ',g)\n",
    "print('макс в каждой столб = ',j)\n",
    "\n",
    "k=a.min(axis = 1)\n",
    "w=a.min(axis = 0)\n",
    "print('мин в каждой строке = ',k)\n",
    "print('мин в каждой столб = ',w)\n",
    "\n",
    "t=a.sum(axis = 1)\n",
    "u=a.sum(axis = 0)\n",
    "print('сум в каждой строке = ',t)\n",
    "print('сум в каждой столб = ',u)\n"
   ]
  },
  {
   "cell_type": "code",
   "execution_count": 63,
   "id": "6b65377b",
   "metadata": {},
   "outputs": [
    {
     "name": "stdout",
     "output_type": "stream",
     "text": [
      "[[4 2]\n",
      " [9 1]\n",
      " [5 3]\n",
      " [2 5]]\n",
      "[4 9 5]\n",
      "сум= 18 мин= 4 макс= 9\n",
      "[[4 2 5 3]\n",
      " [9 1 2 5]]\n",
      "[4 2 5]\n",
      "сум= 11 мин= 2 макс= 5\n"
     ]
    }
   ],
   "source": [
    "import numpy as np \n",
    "a = np.array([[4, 2], [9, 1]]) \n",
    "b = np.array([[5, 3], [2, 5]]) \n",
    "f=np.vstack((a, b)) \n",
    "print(f)\n",
    "\n",
    "g=f[:-1,0]\n",
    "print(g)\n",
    "\n",
    "y=g.sum() # Нахождение суммы элементов массива\n",
    "o=g.min() # Нахождения минимума массива \n",
    "x=g.max() \n",
    "print('сум=',y,'мин=',o,'макс=',x)\n",
    "\n",
    "d=np.hstack((a, b))\n",
    "print(d)\n",
    "\n",
    "h=d[0, :-1]\n",
    "print(h)\n",
    "\n",
    "q=h.sum() # Нахождение суммы элементов массива\n",
    "w=h.min() # Нахождения минимума массива \n",
    "r=h.max() \n",
    "print('сум=',q,'мин=',w,'макс=',r)\n"
   ]
  },
  {
   "cell_type": "code",
   "execution_count": 73,
   "id": "076dc317",
   "metadata": {},
   "outputs": [
    {
     "name": "stdout",
     "output_type": "stream",
     "text": [
      "[2. 1.]\n"
     ]
    }
   ],
   "source": [
    "import numpy as np \n",
    "a=np.array([[5,4],[2,-6]])\n",
    "b=np.array([14,-2])\n",
    "d=np.linalg.solve(a, b) \n",
    "print(d)\n"
   ]
  },
  {
   "cell_type": "code",
   "execution_count": 83,
   "id": "14691eb0",
   "metadata": {},
   "outputs": [
    {
     "name": "stdout",
     "output_type": "stream",
     "text": [
      " транспонированную [[2 1]\n",
      " [8 6]]\n",
      "[[3 4 6]\n",
      " [2 1 3]\n",
      " [7 8 7]]\n",
      "[[ 4  6  7  9]\n",
      " [ 3  1  5  5]\n",
      " [ 2  1  8 -3]\n",
      " [ 7 -2  1 -5]]\n",
      "обратная [[ 1.5  -2.  ]\n",
      " [-0.25  0.5 ]]\n",
      "[[-0.5483871   0.22580645  0.29032258]\n",
      " [ 0.64516129 -0.67741935  0.12903226]\n",
      " [ 0.19354839  0.09677419 -0.16129032]]\n",
      "[[ 0.05464191  0.23129973 -0.05251989 -0.0265252 ]\n",
      " [-0.00424403 -0.37718833  0.11087533  0.16710875]\n",
      " [-0.06153846  0.03076923  0.10769231 -0.07692308]\n",
      " [ 0.13103448  0.02068966 -0.04827586 -0.03448276]]\n",
      "определитель 4.0\n",
      "определитель 31.0\n",
      "определитель 1885.0\n",
      "норма 3 на 3 22.0\n",
      "норма 4 на 4 26.0\n"
     ]
    }
   ],
   "source": [
    "import numpy as np \n",
    "a=np.array([[2,8],[1,6]])\n",
    "b=np.array([[3,2,7],[4,1,8],[6,3,7]])\n",
    "g=np.array([[4,3,2,7],[6,1,1,-2],[7,5,8,1],[9,5,-3,-5]])\n",
    "\n",
    "d=a.transpose() \n",
    "z=b.transpose() \n",
    "i=g.transpose() \n",
    "print(' транспонированную',d)\n",
    "print(z)\n",
    "print(i)\n",
    "\n",
    "t = np.linalg.inv(a)\n",
    "y = np.linalg.inv(b)\n",
    "o= np.linalg.inv(g)\n",
    "print('обратная',t)\n",
    "print(y)\n",
    "print(o)\n",
    "\n",
    "a1 = np.linalg.det(a)\n",
    "a2 = np.linalg.det(b)\n",
    "a3 = np.linalg.det(g)\n",
    "print('определитель',a1)\n",
    "print('определитель',a2)\n",
    "print('определитель', round(a3,2) )\n",
    "\n",
    "b1=np.linalg.norm(b, ord=1)\n",
    "print('норма 3 на 3',b1)\n",
    "\n",
    "b2=np.linalg.norm(g, ord=1)\n",
    "print('норма 4 на 4',b2)\n"
   ]
  },
  {
   "cell_type": "code",
   "execution_count": 93,
   "id": "60d8342b",
   "metadata": {},
   "outputs": [
    {
     "name": "stdout",
     "output_type": "stream",
     "text": [
      "43\n",
      "52\n"
     ]
    }
   ],
   "source": [
    "import numpy as np \n",
    "import random \n",
    "a = np.array([random.randint(0, 100) for i in range(0, 100, 1)]) \n",
    "\n",
    "cnt = 0 \n",
    "for a in a: \n",
    " if a > 50: \n",
    "    cnt +=1 \n",
    "print(cnt) \n",
    "\n",
    "a1=np.array([random.randint(0, 100) for i in range(0, 100, 1)]) \n",
    "print((a1 > 50).sum()) "
   ]
  },
  {
   "cell_type": "code",
   "execution_count": 103,
   "id": "396f7850",
   "metadata": {},
   "outputs": [
    {
     "name": "stdout",
     "output_type": "stream",
     "text": [
      "[[ 5.29 26.01 22.09]\n",
      " [12.25 44.89  2.25]\n",
      " [70.56  9.61 84.64]]\n"
     ]
    }
   ],
   "source": [
    "import numpy as np \n",
    "a = np.array([[2.3, 5.1, 4.7],  [3.5, 6.7, 1.5], [8.4, 3.1, 9.2]]) \n",
    "b = np.array([[4.3, 8.1, 6.1],  [3.7, 6.2, 1.5],  [2.4, 5.7, 4.7]])\n",
    "s=a**2\n",
    "print(s)"
   ]
  },
  {
   "cell_type": "code",
   "execution_count": 113,
   "id": "d2643522",
   "metadata": {},
   "outputs": [
    {
     "name": "stdout",
     "output_type": "stream",
     "text": [
      "[[0.3 0.1 0.1]\n",
      " [1.7 0.2 1.5]\n",
      " [0.4 1.7 0.7]]\n"
     ]
    }
   ],
   "source": [
    "import numpy as np \n",
    "a = np.array([[2.3, 5.1, 4.7],  [3.5, 6.7, 1.5], [8.4, 3.1, 9.2]]) \n",
    "b = np.array([[4.3, 8.1, 6.1],  [3.7, 6.2, 1.5],  [2.4, 5.7, 4.7]])\n",
    "s=b%2\n",
    "print(s)"
   ]
  },
  {
   "cell_type": "code",
   "execution_count": 123,
   "id": "73adcc8e",
   "metadata": {},
   "outputs": [
    {
     "name": "stdout",
     "output_type": "stream",
     "text": [
      "[[-1.58244196  1.34786755 -0.19455117]\n",
      " [-1.46629283  0.83129375  1.06823219]\n",
      " [ 0.15617453 -1.54982069 -1.97476688]]\n"
     ]
    }
   ],
   "source": [
    "import numpy as np \n",
    "a = np.array([[2.3, 5.1, 4.7],  [3.5, 6.7, 1.5], [8.4, 3.1, 9.2]]) \n",
    "b = np.array([[4.3, 8.1, 6.1],  [3.7, 6.2, 1.5],  [2.4, 5.7, 4.7]])\n",
    "s=np.sin(b)\n",
    "f=np.cos(a)\n",
    "print(s+f)"
   ]
  },
  {
   "cell_type": "markdown",
   "id": "7da130c4",
   "metadata": {},
   "source": [
    "# Раздел 2"
   ]
  },
  {
   "cell_type": "markdown",
   "id": "a7823af6",
   "metadata": {},
   "source": [
    "### Заданеие 2.1"
   ]
  },
  {
   "cell_type": "code",
   "execution_count": 124,
   "id": "47a0c0ab",
   "metadata": {},
   "outputs": [
    {
     "name": "stdout",
     "output_type": "stream",
     "text": [
      "   heights  weights  ages\n",
      "0      188       86    58\n",
      "1      172       71    61\n",
      "2      187       89    54\n",
      "    heights  weights  ages\n",
      "42      156       82    54\n",
      "43      185       85    47\n",
      "44      199      110    38\n"
     ]
    }
   ],
   "source": [
    "\n",
    "import pandas as pd \n",
    "heights = [188, 172, 187, 161, 183, 172, 185, 163, 173, 183, 174, 174, 175,\n",
    "178, 183, 195, 178, 173, 174, 183, 174, 181, 162, 180, 170, 175, 182, 180, 183,\n",
    "178, 182, 188, 175, 179, 184, 193, 182, 183, 175, 185, 182, 183, 156, 185, 199] \n",
    "weights = [86, 71, 89, 64, 83, 71, 86, 68, 73, 84, 73, 72, 75, 78, 85, 93, 78,\n",
    "70, 74, 80, 83, 82, 68, 80, 73, 78, 82, 81, 83, 79, 82, 86, 76, 77, 80, 103,\n",
    "82, 83, 77, 89, 80, 85, 82, 85, 110] \n",
    "ages = [58, 61, 54, 54, 58, 57, 63, 54, 37, 51, 34, 26, 50, 48, 45, 52, 56,\n",
    "46, 54, 28, 52, 47, 55, 55, 54, 42, 51, 56, 55, 51, 54, 32, 21, 62, 43, 55,\n",
    "56, 61, 53, 22, 64, 45, 54, 47, 38] \n",
    "\n",
    "data = {\"heights\":heights,\"weights\":weights,\"ages\":ages}\n",
    "df = pd.DataFrame(data)\n",
    "\n",
    "print(df.head(3)) \n",
    "print(df.tail(3)) "
   ]
  },
  {
   "attachments": {},
   "cell_type": "markdown",
   "id": "d5464536",
   "metadata": {},
   "source": [
    "### Задание 2.2\n"
   ]
  },
  {
   "cell_type": "code",
   "execution_count": 125,
   "id": "46902472",
   "metadata": {},
   "outputs": [
    {
     "name": "stdout",
     "output_type": "stream",
     "text": [
      "   heights  weights  ages\n",
      "0      188       86    58\n",
      "1      172       71    61\n",
      "2      187       89    54\n",
      "    heights  weights  ages\n",
      "42      156       82    54\n",
      "43      185       85    47\n",
      "44      199      110    38\n",
      "heights    199\n",
      "weights    110\n",
      "ages        64\n",
      "dtype: int64\n",
      "heights    156\n",
      "weights     64\n",
      "ages        21\n",
      "dtype: int64\n",
      "heights    178.888889\n",
      "weights     80.422222\n",
      "ages        49.133333\n",
      "dtype: float64\n",
      "сумма чисел 2211\n",
      "длина  45\n",
      "среднее значение без мин  49.13333333333333\n",
      "сумма чисел 8050\n",
      "длина  45\n",
      "среднее значение без мин  178.88888888888889\n",
      "сумма чисел 3619\n",
      "длина  45\n",
      "среднее значение без мин  80.42222222222222\n",
      " медиана heights    180.0\n",
      "weights     80.0\n",
      "ages        53.0\n",
      "dtype: float64\n",
      " стандартное откл  heights     8.501931\n",
      "weights     8.438249\n",
      "ages       10.674098\n",
      "dtype: float64\n"
     ]
    }
   ],
   "source": [
    "import pandas as pd \n",
    "heights = [188, 172, 187, 161, 183, 172, 185, 163, 173, 183, 174, 174, 175,\n",
    "178, 183, 195, 178, 173, 174, 183, 174, 181, 162, 180, 170, 175, 182, 180, 183,\n",
    "178, 182, 188, 175, 179, 184, 193, 182, 183, 175, 185, 182, 183, 156, 185, 199] \n",
    "weights = [86, 71, 89, 64, 83, 71, 86, 68, 73, 84, 73, 72, 75, 78, 85, 93, 78,\n",
    "70, 74, 80, 83, 82, 68, 80, 73, 78, 82, 81, 83, 79, 82, 86, 76, 77, 80, 103,\n",
    "82, 83, 77, 89, 80, 85, 82, 85, 110] \n",
    "ages = [58, 61, 54, 54, 58, 57, 63, 54, 37, 51, 34, 26, 50, 48, 45, 52, 56,\n",
    "46, 54, 28, 52, 47, 55, 55, 54, 42, 51, 56, 55, 51, 54, 32, 21, 62, 43, 55,\n",
    "56, 61, 53, 22, 64, 45, 54, 47, 38] \n",
    "\n",
    "data = {\"heights\":heights,\"weights\":weights,\"ages\":ages}\n",
    "df = pd.DataFrame(data)\n",
    "\n",
    "print(df.head(3)) \n",
    "print(df.tail(3)) \n",
    "\n",
    "#макс значение\n",
    "maxdf=df.max()\n",
    "mindf=df.min()\n",
    "print(maxdf)\n",
    "\n",
    "#мин значение\n",
    "mindf=df.min()\n",
    "mindf=df.min()\n",
    "print(mindf)\n",
    "\n",
    "# среднее значение с мин\n",
    "res_mean = df.mean()\n",
    "print(res_mean)\n",
    "\n",
    "#сред значение без мин ages\n",
    "sum_ag=sum(ages)\n",
    "print('сумма чисел',sum_ag)\n",
    "dlina_ag=len(ages)\n",
    "sred_ag=sum_ag/dlina_ag\n",
    "print('длина ',dlina_ag)\n",
    "print('среднее значение без мин ',sred_ag)\n",
    "\n",
    "#сред значение без мин heights\n",
    "sum_he=sum(heights)\n",
    "print('сумма чисел',sum_he)\n",
    "dlina_he=len(heights)\n",
    "sred_he=sum_he/dlina_he\n",
    "print('длина ',dlina_he)\n",
    "print('среднее значение без мин ',sred_he)\n",
    "\n",
    "#сред значение без мин weights\n",
    "sum_we=sum(weights)\n",
    "print('сумма чисел',sum_we)\n",
    "dlina_we=len(weights)\n",
    "sred_we=sum_we/dlina_we\n",
    "print('длина ',dlina_we)\n",
    "print('среднее значение без мин ',sred_we)\n",
    "\n",
    "#Медиана\n",
    "mediannn=df.median()\n",
    "print(' медиана',mediannn)\n",
    "\n",
    "#стандартное отклонение \n",
    "stand=df.std()\n",
    "print(' стандартное откл ',stand)"
   ]
  },
  {
   "attachments": {},
   "cell_type": "markdown",
   "id": "bc1329c8",
   "metadata": {},
   "source": [
    "### Задание 2.3\n"
   ]
  },
  {
   "cell_type": "code",
   "execution_count": 126,
   "id": "20230be7",
   "metadata": {},
   "outputs": [
    {
     "name": "stdout",
     "output_type": "stream",
     "text": [
      "          heights     weights       ages\n",
      "count   45.000000   45.000000  45.000000\n",
      "mean   178.888889   80.422222  49.133333\n",
      "std      8.501931    8.438249  10.674098\n",
      "min    156.000000   64.000000  21.000000\n",
      "25%    174.000000   75.000000  45.000000\n",
      "50%    180.000000   80.000000  53.000000\n",
      "75%    183.000000   84.000000  55.000000\n",
      "max    199.000000  110.000000  64.000000\n"
     ]
    }
   ],
   "source": [
    "import pandas as pd \n",
    "heights = [188, 172, 187, 161, 183, 172, 185, 163, 173, 183, 174, 174, 175,\n",
    "178, 183, 195, 178, 173, 174, 183, 174, 181, 162, 180, 170, 175, 182, 180, 183,\n",
    "178, 182, 188, 175, 179, 184, 193, 182, 183, 175, 185, 182, 183, 156, 185, 199] \n",
    "weights = [86, 71, 89, 64, 83, 71, 86, 68, 73, 84, 73, 72, 75, 78, 85, 93, 78,\n",
    "70, 74, 80, 83, 82, 68, 80, 73, 78, 82, 81, 83, 79, 82, 86, 76, 77, 80, 103,\n",
    "82, 83, 77, 89, 80, 85, 82, 85, 110] \n",
    "ages = [58, 61, 54, 54, 58, 57, 63, 54, 37, 51, 34, 26, 50, 48, 45, 52, 56,\n",
    "46, 54, 28, 52, 47, 55, 55, 54, 42, 51, 56, 55, 51, 54, 32, 21, 62, 43, 55,\n",
    "56, 61, 53, 22, 64, 45, 54, 47, 38] \n",
    "\n",
    "data = {'heights': heights, 'weights': weights, 'ages': ages}\n",
    "\n",
    "df = pd.DataFrame(data)\n",
    "\n",
    "stat=df.describe()\n",
    "print(stat)\n"
   ]
  },
  {
   "attachments": {},
   "cell_type": "markdown",
   "id": "e384f740",
   "metadata": {},
   "source": [
    "# Раздел 3\n",
    "\n",
    "\n",
    "\n"
   ]
  },
  {
   "attachments": {},
   "cell_type": "markdown",
   "id": "85ff3661",
   "metadata": {},
   "source": [
    "## Задание 3.1"
   ]
  },
  {
   "cell_type": "code",
   "execution_count": 127,
   "id": "a20b89f6",
   "metadata": {},
   "outputs": [
    {
     "name": "stdout",
     "output_type": "stream",
     "text": [
      "    heights  weights  ages\n",
      "0       188       86    58\n",
      "1       172       71    61\n",
      "2       187       89    54\n",
      "3       161       64    54\n",
      "4       183       83    58\n",
      "5       172       71    57\n",
      "6       185       86    63\n",
      "7       163       68    54\n",
      "8       173       73    37\n",
      "9       183       84    51\n",
      "10      174       73    34\n",
      "11      174       72    26\n",
      "12      175       75    50\n",
      "13      178       78    48\n",
      "14      183       85    45\n",
      "15      195       93    52\n",
      "16      178       78    56\n",
      "17      173       70    46\n",
      "18      174       74    54\n",
      "19      183       80    28\n",
      "20      174       83    52\n",
      "21      181       82    47\n",
      "22      162       68    55\n",
      "23      180       80    55\n",
      "24      170       73    54\n",
      "25      175       78    42\n",
      "26      182       82    51\n",
      "27      180       81    56\n",
      "28      183       83    55\n",
      "29      178       79    51\n",
      "30      182       82    54\n",
      "31      188       86    32\n",
      "32      175       76    21\n",
      "33      179       77    62\n",
      "34      184       80    43\n",
      "35      193      103    55\n",
      "36      182       82    56\n",
      "37      183       83    61\n",
      "38      175       77    53\n",
      "39      185       89    22\n",
      "40      182       80    64\n"
     ]
    }
   ],
   "source": [
    "import pandas as pd \n",
    "heights = [188, 172, 187, 161, 183, 172, 185, 163, 173, 183, 174, 174, 175,\n",
    "178, 183, 195, 178, 173, 174, 183, 174, 181, 162, 180, 170, 175, 182, 180, 183,\n",
    "178, 182, 188, 175, 179, 184, 193, 182, 183, 175, 185, 182, 183, 156, 185, 199] \n",
    "weights = [86, 71, 89, 64, 83, 71, 86, 68, 73, 84, 73, 72, 75, 78, 85, 93, 78,\n",
    "70, 74, 80, 83, 82, 68, 80, 73, 78, 82, 81, 83, 79, 82, 86, 76, 77, 80, 103,\n",
    "82, 83, 77, 89, 80, 85, 82, 85, 110] \n",
    "ages = [58, 61, 54, 54, 58, 57, 63, 54, 37, 51, 34, 26, 50, 48, 45, 52, 56,\n",
    "46, 54, 28, 52, 47, 55, 55, 54, 42, 51, 56, 55, 51, 54, 32, 21, 62, 43, 55,\n",
    "56, 61, 53, 22, 64, 45, 54, 47, 38] \n",
    "\n",
    "data = {'heights': heights, 'weights': weights, 'ages': ages}\n",
    "\n",
    "df = pd.DataFrame(data)\n",
    "\n",
    "stat=df.describe()\n",
    "a=df.loc[:40]\n",
    "print(a)\n"
   ]
  },
  {
   "cell_type": "markdown",
   "id": "87c2fde7",
   "metadata": {},
   "source": [
    "## Задание 3.2\n"
   ]
  },
  {
   "cell_type": "code",
   "execution_count": 128,
   "id": "0e16fdb6",
   "metadata": {},
   "outputs": [
    {
     "name": "stdout",
     "output_type": "stream",
     "text": [
      "0     188\n",
      "2     187\n",
      "4     183\n",
      "6     185\n",
      "9     183\n",
      "14    183\n",
      "15    195\n",
      "19    183\n",
      "21    181\n",
      "26    182\n",
      "28    183\n",
      "30    182\n",
      "31    188\n",
      "34    184\n",
      "35    193\n",
      "36    182\n",
      "37    183\n",
      "39    185\n",
      "40    182\n",
      "41    183\n",
      "43    185\n",
      "44    199\n",
      "Name: heights, dtype: int64\n"
     ]
    }
   ],
   "source": [
    "import pandas as pd \n",
    "heights = [188, 172, 187, 161, 183, 172, 185, 163, 173, 183, 174, 174, 175,\n",
    "178, 183, 195, 178, 173, 174, 183, 174, 181, 162, 180, 170, 175, 182, 180, 183,\n",
    "178, 182, 188, 175, 179, 184, 193, 182, 183, 175, 185, 182, 183, 156, 185, 199] \n",
    "weights = [86, 71, 89, 64, 83, 71, 86, 68, 73, 84, 73, 72, 75, 78, 85, 93, 78,\n",
    "70, 74, 80, 83, 82, 68, 80, 73, 78, 82, 81, 83, 79, 82, 86, 76, 77, 80, 103,\n",
    "82, 83, 77, 89, 80, 85, 82, 85, 110] \n",
    "ages = [58, 61, 54, 54, 58, 57, 63, 54, 37, 51, 34, 26, 50, 48, 45, 52, 56,\n",
    "46, 54, 28, 52, 47, 55, 55, 54, 42, 51, 56, 55, 51, 54, 32, 21, 62, 43, 55,\n",
    "56, 61, 53, 22, 64, 45, 54, 47, 38] \n",
    "\n",
    "data = {'heights': heights, 'weights': weights, 'ages': ages}\n",
    "\n",
    "df = pd.DataFrame(data)\n",
    "\n",
    "a=df.loc[:40]\n",
    "b=df[(df[\"heights\"]>180)][\"heights\"]\n",
    "print(b)\n",
    "df_n=df[[\"heights\",\"ages\"]][0:20]\n"
   ]
  },
  {
   "cell_type": "markdown",
   "id": "1d004ddc",
   "metadata": {},
   "source": [
    "## Задание 3.3"
   ]
  },
  {
   "cell_type": "code",
   "execution_count": 129,
   "id": "86ed5ecc",
   "metadata": {},
   "outputs": [
    {
     "name": "stdout",
     "output_type": "stream",
     "text": [
      "1     71\n",
      "3     64\n",
      "5     71\n",
      "7     68\n",
      "8     73\n",
      "10    73\n",
      "11    72\n",
      "12    75\n",
      "13    78\n",
      "16    78\n",
      "17    70\n",
      "18    74\n",
      "22    68\n",
      "24    73\n",
      "25    78\n",
      "29    79\n",
      "32    76\n",
      "33    77\n",
      "38    77\n",
      "Name: weights, dtype: int64\n"
     ]
    }
   ],
   "source": [
    "import pandas as pd \n",
    "heights = [188, 172, 187, 161, 183, 172, 185, 163, 173, 183, 174, 174, 175,\n",
    "178, 183, 195, 178, 173, 174, 183, 174, 181, 162, 180, 170, 175, 182, 180, 183,\n",
    "178, 182, 188, 175, 179, 184, 193, 182, 183, 175, 185, 182, 183, 156, 185, 199] \n",
    "weights = [86, 71, 89, 64, 83, 71, 86, 68, 73, 84, 73, 72, 75, 78, 85, 93, 78,\n",
    "70, 74, 80, 83, 82, 68, 80, 73, 78, 82, 81, 83, 79, 82, 86, 76, 77, 80, 103,\n",
    "82, 83, 77, 89, 80, 85, 82, 85, 110] \n",
    "ages = [58, 61, 54, 54, 58, 57, 63, 54, 37, 51, 34, 26, 50, 48, 45, 52, 56,\n",
    "46, 54, 28, 52, 47, 55, 55, 54, 42, 51, 56, 55, 51, 54, 32, 21, 62, 43, 55,\n",
    "56, 61, 53, 22, 64, 45, 54, 47, 38] \n",
    "\n",
    "data = {'heights': heights, 'weights': weights, 'ages': ages}\n",
    "\n",
    "df = pd.DataFrame(data)\n",
    "\n",
    "a=df.loc[:40]\n",
    "b=df[(df[\"weights\"]<80)][\"weights\"]\n",
    "print(b)\n",
    "df_n=df[[\"weights\",\"ages\"]][0:20]"
   ]
  },
  {
   "attachments": {},
   "cell_type": "markdown",
   "id": "d42aece4",
   "metadata": {},
   "source": [
    "## Задание 3.4.\n"
   ]
  },
  {
   "cell_type": "code",
   "execution_count": 130,
   "metadata": {},
   "outputs": [
    {
     "name": "stdout",
     "output_type": "stream",
     "text": [
      "8     37\n",
      "10    34\n",
      "13    48\n",
      "14    45\n",
      "17    46\n",
      "21    47\n",
      "25    42\n",
      "31    32\n",
      "34    43\n",
      "41    45\n",
      "43    47\n",
      "44    38\n",
      "Name: ages, dtype: int64\n"
     ]
    }
   ],
   "source": [
    "import pandas as pd \n",
    "heights = [188, 172, 187, 161, 183, 172, 185, 163, 173, 183, 174, 174, 175,\n",
    "178, 183, 195, 178, 173, 174, 183, 174, 181, 162, 180, 170, 175, 182, 180, 183,\n",
    "178, 182, 188, 175, 179, 184, 193, 182, 183, 175, 185, 182, 183, 156, 185, 199] \n",
    "weights = [86, 71, 89, 64, 83, 71, 86, 68, 73, 84, 73, 72, 75, 78, 85, 93, 78,\n",
    "70, 74, 80, 83, 82, 68, 80, 73, 78, 82, 81, 83, 79, 82, 86, 76, 77, 80, 103,\n",
    "82, 83, 77, 89, 80, 85, 82, 85, 110] \n",
    "ages = [58, 61, 54, 54, 58, 57, 63, 54, 37, 51, 34, 26, 50, 48, 45, 52, 56,\n",
    "46, 54, 28, 52, 47, 55, 55, 54, 42, 51, 56, 55, 51, 54, 32, 21, 62, 43, 55,\n",
    "56, 61, 53, 22, 64, 45, 54, 47, 38] \n",
    "\n",
    "data = {'heights': heights, 'weights': weights, 'ages': ages}\n",
    "\n",
    "df = pd.DataFrame(data)\n",
    "\n",
    "a=df.loc[:40]\n",
    "b=df[(df[\"ages\"]<50) & (df[\"ages\"]>30)][\"ages\"]\n",
    "print(b)\n"
   ]
  },
  {
   "cell_type": "markdown",
   "id": "31cb344d",
   "metadata": {},
   "source": [
    "## Задание 3.5."
   ]
  },
  {
   "cell_type": "code",
   "execution_count": 131,
   "id": "670073cb",
   "metadata": {},
   "outputs": [
    {
     "name": "stdout",
     "output_type": "stream",
     "text": [
      "    heights  weights\n",
      "0       188       86\n",
      "2       187       89\n",
      "4       183       83\n",
      "6       185       86\n",
      "9       183       84\n",
      "14      183       85\n",
      "15      195       93\n",
      "20      174       83\n",
      "21      181       82\n",
      "26      182       82\n",
      "27      180       81\n",
      "28      183       83\n",
      "30      182       82\n",
      "31      188       86\n",
      "35      193      103\n",
      "36      182       82\n",
      "37      183       83\n",
      "39      185       89\n",
      "41      183       85\n",
      "43      185       85\n",
      "44      199      110\n"
     ]
    }
   ],
   "source": [
    "import pandas as pd \n",
    "heights = [188, 172, 187, 161, 183, 172, 185, 163, 173, 183, 174, 174, 175,\n",
    "178, 183, 195, 178, 173, 174, 183, 174, 181, 162, 180, 170, 175, 182, 180, 183,\n",
    "178, 182, 188, 175, 179, 184, 193, 182, 183, 175, 185, 182, 183, 156, 185, 199] \n",
    "weights = [86, 71, 89, 64, 83, 71, 86, 68, 73, 84, 73, 72, 75, 78, 85, 93, 78,\n",
    "70, 74, 80, 83, 82, 68, 80, 73, 78, 82, 81, 83, 79, 82, 86, 76, 77, 80, 103,\n",
    "82, 83, 77, 89, 80, 85, 82, 85, 110] \n",
    "ages = [58, 61, 54, 54, 58, 57, 63, 54, 37, 51, 34, 26, 50, 48, 45, 52, 56,\n",
    "46, 54, 28, 52, 47, 55, 55, 54, 42, 51, 56, 55, 51, 54, 32, 21, 62, 43, 55,\n",
    "56, 61, 53, 22, 64, 45, 54, 47, 38] \n",
    "\n",
    "data = {'heights': heights, 'weights': weights, 'ages': ages}\n",
    "\n",
    "df = pd.DataFrame(data)\n",
    "\n",
    "a=df.loc[:40]\n",
    "b=df[(df[\"heights\"]>170) & (df[\"weights\"]>80)][[\"heights\", \"weights\"]]\n",
    "print(b)"
   ]
  },
  {
   "cell_type": "code",
   "execution_count": 132,
   "id": "f055fe73",
   "metadata": {},
   "outputs": [
    {
     "name": "stdout",
     "output_type": "stream",
     "text": [
      "мин знач 174 81\n",
      "макс знач 199 110\n",
      " среднее знач  184.95238095238096 86.76190476190476\n",
      " стандартное откл  5.454137791403793 7.251929135786986\n"
     ]
    }
   ],
   "source": [
    "print('мин знач',b['heights'].min(), b['weights'].min())\n",
    "print('макс знач',b['heights'].max(), b['weights'].max())\n",
    "\n",
    "# среднее значение с мин\n",
    "print(' среднее знач ', b['heights'].mean(), b['weights'].mean())\n",
    "\n",
    "#стандартное отклонение\n",
    "print(' стандартное откл ',b['heights'].std(), b['weights'].std())"
   ]
  },
  {
   "cell_type": "code",
   "execution_count": null,
   "id": "6fd03859",
   "metadata": {},
   "outputs": [],
   "source": []
  }
 ],
 "metadata": {
  "kernelspec": {
   "display_name": "Python 3",
   "language": "python",
   "name": "python3"
  },
  "language_info": {
   "codemirror_mode": {
    "name": "ipython",
    "version": 3
   },
   "file_extension": ".py",
   "mimetype": "text/x-python",
   "name": "python",
   "nbconvert_exporter": "python",
   "pygments_lexer": "ipython3",
   "version": "3.10.6"
  },
  "vscode": {
   "interpreter": {
    "hash": "46b0ae78ce8d2e6407bde63aa3aec804518bf8cfa8e47c740584ddbfbc18bb20"
   }
  }
 },
 "nbformat": 4,
 "nbformat_minor": 5
}
